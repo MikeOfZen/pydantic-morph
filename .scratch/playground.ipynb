{
 "cells": [
  {
   "cell_type": "code",
   "execution_count": 45,
   "id": "c5a38f8a",
   "metadata": {},
   "outputs": [],
   "source": [
    "from pydantic import BaseModel, Field\n",
    "from typing import Annotated,Union,Optional\n",
    "from pydantic import AliasGenerator, BaseModel, ConfigDict\n",
    "from copy import copy\n",
    "from pydantic import BaseModel, ConfigDict, create_model\n",
    "from typing import Any, Callable, Dict, Iterable, Protocol, Union, get_origin, get_args\n",
    "from pydantic.fields import FieldInfo\n",
    "from typing import List\n",
    "from datetime import datetime\n",
    "from typing import Union\n",
    "from pydantic import BaseModel, Field\n",
    "from pydantic.fields import FieldInfo\n",
    "from typing import Optional, Union, List,Annotated\n",
    "import json\n",
    "from deepdiff import DeepDiff"
   ]
  },
  {
   "cell_type": "code",
   "execution_count": 46,
   "id": "27bbb222",
   "metadata": {},
   "outputs": [],
   "source": [
    "\n",
    "class SimpleUser(BaseModel):\n",
    "    \"\"\"A simple user model for testing\"\"\"\n",
    "    name: str\n",
    "    age: int\n",
    "    email: str\n",
    "\n",
    "class ComplexUser(BaseModel):\n",
    "    \"\"\"A more complex user model with various field types\"\"\"\n",
    "    model_config = ConfigDict(extra='forbid', str_strip_whitespace=True)\n",
    "    \n",
    "    id: int\n",
    "    name: str = Field(..., min_length=1, max_length=100)\n",
    "    email: str = Field(..., pattern=r'^[^@]+@[^@]+\\.[^@]+$')\n",
    "    age: Optional[int] = Field(None, ge=0, le=150)\n",
    "    tags: List[str] = Field(default_factory=list)\n",
    "    created_at: datetime = Field(default_factory=datetime.now)\n",
    "    is_active: bool = True\n",
    "\n",
    "class Product(BaseModel):\n",
    "    \"\"\"Product model with nested validation\"\"\"\n",
    "    name: str\n",
    "    price: float = Field(..., gt=0)\n",
    "    description: Optional[str] = None\n",
    "    category: str = \"general\"\n",
    "\n",
    "class test(BaseModel):\n",
    "    a:Annotated[int, Field(gt=0)] = 1\n",
    "    b:Annotated[Union[str,None], Field(min_length=1)]\n",
    "    c:Optional[int]\n",
    "\n",
    "class B(BaseModel):\n",
    "    a: int = 1\n",
    "class A(BaseModel):\n",
    "    a: int = 1"
   ]
  },
  {
   "cell_type": "code",
   "execution_count": 47,
   "id": "f7438a32",
   "metadata": {},
   "outputs": [],
   "source": [
    "def _type_in_annotation(annotation: Any, target_type: type) -> bool:\n",
    "        \"\"\"Check if target_type is already in the annotation\"\"\"\n",
    "        if annotation == target_type or annotation == Any or target_type == Any:\n",
    "            return True\n",
    "            \n",
    "        return get_origin(annotation) is Union and target_type in get_args(annotation)"
   ]
  },
  {
   "cell_type": "code",
   "execution_count": 48,
   "id": "f053caa4",
   "metadata": {},
   "outputs": [
    {
     "data": {
      "text/plain": [
       "FieldInfo(annotation=Union[int, str], required=False, default=None)"
      ]
     },
     "execution_count": 48,
     "metadata": {},
     "output_type": "execute_result"
    }
   ],
   "source": [
    "FieldInfo.from_annotated_attribute(\n",
    "            annotation=Union[int,str],\n",
    "            default=None\n",
    "        )"
   ]
  },
  {
   "cell_type": "code",
   "execution_count": 49,
   "id": "2b6668e8",
   "metadata": {},
   "outputs": [
    {
     "data": {
      "text/plain": [
       "False"
      ]
     },
     "execution_count": 49,
     "metadata": {},
     "output_type": "execute_result"
    }
   ],
   "source": [
    "from functools import reduce\n",
    "from operator import xor\n",
    "\n",
    "my_list = [None,1,1,None]\n",
    "\n",
    "# Reduce the list by XOR\n",
    "m=map(lambda a:a is not None, my_list)\n",
    "xor_result = reduce(xor, m)\n",
    "xor_result"
   ]
  },
  {
   "cell_type": "code",
   "execution_count": 50,
   "id": "c76b3f69",
   "metadata": {},
   "outputs": [],
   "source": [
    "complex_type=Union[List[Union[A,int,B]],Dict[str,Union[A,int,B]],None]\n",
    "u1= Union[Any,int,str,None]"
   ]
  },
  {
   "cell_type": "code",
   "execution_count": 51,
   "id": "0ed834f1",
   "metadata": {},
   "outputs": [],
   "source": [
    "f1=FieldInfo.from_annotated_attribute(\n",
    "            annotation=A,\n",
    "            default=Field(default_factory=lambda:1)\n",
    "        )\n",
    "an=f1.annotation\n",
    "get_origin(an)"
   ]
  },
  {
   "cell_type": "code",
   "execution_count": 52,
   "id": "4b4f2928",
   "metadata": {},
   "outputs": [
    {
     "name": "stdout",
     "output_type": "stream",
     "text": [
      "\n",
      "required_field:\n",
      "  annotation: <class 'str'>\n",
      "  default: PydanticUndefined\n",
      "  is_required: True\n",
      "  alias: None\n",
      "  description: None\n",
      "\n",
      "optional_field:\n",
      "  annotation: typing.Optional[str]\n",
      "  default: None\n",
      "  is_required: False\n",
      "  alias: None\n",
      "  description: None\n",
      "\n",
      "default_field:\n",
      "  annotation: <class 'str'>\n",
      "  default: default\n",
      "  is_required: False\n",
      "  alias: None\n",
      "  description: None\n",
      "\n",
      "factory_field:\n",
      "  annotation: typing.List[str]\n",
      "  default: PydanticUndefined\n",
      "  is_required: False\n",
      "  alias: None\n",
      "  description: None\n",
      "\n",
      "constrained_field:\n",
      "  annotation: <class 'str'>\n",
      "  default: PydanticUndefined\n",
      "  is_required: True\n",
      "  alias: None\n",
      "  description: A constrained field\n",
      "\n",
      "aliased_field:\n",
      "  annotation: <class 'int'>\n",
      "  default: PydanticUndefined\n",
      "  is_required: True\n",
      "  alias: aliased_name\n",
      "  description: None\n",
      "\n",
      "anf:\n",
      "  annotation: int | float\n",
      "  default: PydanticUndefined\n",
      "  is_required: False\n",
      "  alias: None\n",
      "  description: None\n"
     ]
    }
   ],
   "source": [
    "class Tag:\n",
    "    pass\n",
    "# Create a test model with various field types\n",
    "class TestModel(BaseModel):\n",
    "    required_field: str\n",
    "    optional_field: Optional[str] = None\n",
    "    default_field: str = \"default\"\n",
    "    factory_field: List[str] = Field(default_factory=list)\n",
    "    constrained_field: str = Field(min_length=1, max_length=10, description=\"A constrained field\")\n",
    "    aliased_field: int = Field(alias=\"aliased_name\", ge=0)\n",
    "    anf:Annotated[int|float,Tag(),Field(default_factory=lambda: 42)]\n",
    "\n",
    "# Inspect the model fields\n",
    "for name, field_info in TestModel.model_fields.items():\n",
    "    print(f\"\\n{name}:\")\n",
    "    print(f\"  annotation: {field_info.annotation}\")\n",
    "    print(f\"  default: {field_info.default}\")\n",
    "    print(f\"  is_required: {field_info.is_required()}\")\n",
    "    print(f\"  alias: {field_info.alias}\")\n",
    "    print(f\"  description: {field_info.description}\")"
   ]
  },
  {
   "cell_type": "code",
   "execution_count": 53,
   "id": "5849522f",
   "metadata": {},
   "outputs": [],
   "source": [
    "def print_field_info(original_field):\n",
    "    print(\"FieldInfo attributes:\")\n",
    "    for attr in dir(original_field):\n",
    "        if not attr.startswith('_') and hasattr(original_field, attr):\n",
    "            try:\n",
    "                value = getattr(original_field, attr)\n",
    "                if not callable(value):\n",
    "                    print(f\"  {attr}: {value}\")\n",
    "            except:\n",
    "                pass"
   ]
  },
  {
   "cell_type": "code",
   "execution_count": null,
   "id": "7ef9b0eb",
   "metadata": {},
   "outputs": [],
   "source": []
  },
  {
   "cell_type": "code",
   "execution_count": 54,
   "id": "7934e644",
   "metadata": {},
   "outputs": [
    {
     "data": {
      "text/plain": [
       "{'type_changes': {'root.description': {'old_type': str,\n",
       "   'new_type': NoneType,\n",
       "   'old_value': 'Constrained',\n",
       "   'new_value': None},\n",
       "  'root._original_assignment': {'old_type': pydantic.fields.FieldInfo,\n",
       "   'new_type': pydantic_core._pydantic_core.PydanticUndefinedType,\n",
       "   'old_value': FieldInfo(annotation=NoneType, required=True, description='Constrained', metadata=[MinLen(min_length=1), MaxLen(max_length=10)]),\n",
       "   'new_value': PydanticUndefined}},\n",
       " 'values_changed': {'root._attributes_set': {'new_value': {'annotation': str,\n",
       "    'frozen': None},\n",
       "   'old_value': {'description': 'Constrained',\n",
       "    'min_length': 1,\n",
       "    'max_length': 10,\n",
       "    'annotation': str}}},\n",
       " 'iterable_item_removed': {'root.metadata[0]': MinLen(min_length=1),\n",
       "  'root.metadata[1]': MaxLen(max_length=10)}}"
      ]
     },
     "execution_count": 54,
     "metadata": {},
     "output_type": "execute_result"
    }
   ],
   "source": [
    "DeepDiff(original_field,new_field)"
   ]
  },
  {
   "cell_type": "code",
   "execution_count": 55,
   "id": "63e8be0d",
   "metadata": {},
   "outputs": [
    {
     "ename": "TypeError",
     "evalue": "pydantic.fields.FieldInfo() argument after ** must be a mapping, not list",
     "output_type": "error",
     "traceback": [
      "\u001b[31m---------------------------------------------------------------------------\u001b[39m",
      "\u001b[31mTypeError\u001b[39m                                 Traceback (most recent call last)",
      "\u001b[36mCell\u001b[39m\u001b[36m \u001b[39m\u001b[32mIn[55]\u001b[39m\u001b[32m, line 1\u001b[39m\n\u001b[32m----> \u001b[39m\u001b[32m1\u001b[39m FieldInfo(**\u001b[38;5;28mdir\u001b[39m(original))\n",
      "\u001b[31mTypeError\u001b[39m: pydantic.fields.FieldInfo() argument after ** must be a mapping, not list"
     ]
    }
   ],
   "source": [
    "FieldInfo(**dir(original))"
   ]
  },
  {
   "cell_type": "code",
   "execution_count": null,
   "id": "9644d997",
   "metadata": {},
   "outputs": [
    {
     "data": {
      "text/plain": [
       "NoneType"
      ]
     },
     "execution_count": 33,
     "metadata": {},
     "output_type": "execute_result"
    }
   ],
   "source": [
    "type(original.alias)"
   ]
  },
  {
   "cell_type": "code",
   "execution_count": null,
   "id": "3bd63246",
   "metadata": {},
   "outputs": [
    {
     "data": {
      "text/plain": [
       "{'default': 'demo',\n",
       " 'description': 'Sample field for demo',\n",
       " 'min_length': 1,\n",
       " 'max_length': 50,\n",
       " 'annotation': str}"
      ]
     },
     "execution_count": 35,
     "metadata": {},
     "output_type": "execute_result"
    }
   ],
   "source": [
    "original._attributes_set  "
   ]
  },
  {
   "cell_type": "code",
   "execution_count": 57,
   "id": "ca9288e4",
   "metadata": {},
   "outputs": [],
   "source": [
    "field_with_meta=TestModel.model_fields['anf']"
   ]
  },
  {
   "cell_type": "code",
   "execution_count": 60,
   "id": "4d811944",
   "metadata": {},
   "outputs": [
    {
     "data": {
      "text/plain": [
       "FieldInfo(annotation=Union[int, float], required=False, default_factory=<lambda>, metadata=[<__main__.Tag object at 0x00000284CB545F10>])"
      ]
     },
     "execution_count": 60,
     "metadata": {},
     "output_type": "execute_result"
    }
   ],
   "source": [
    "field_with_meta"
   ]
  },
  {
   "cell_type": "code",
   "execution_count": 62,
   "id": "a6ea242f",
   "metadata": {},
   "outputs": [],
   "source": [
    "def copy_with_construct(original: FieldInfo, **overrides) -> FieldInfo:\n",
    "    \"\"\"Use _construct to properly merge FieldInfo instances\"\"\"\n",
    "    return FieldInfo._construct(\n",
    "        metadata=original,  # Pass original as metadata to merge\n",
    "        **overrides\n",
    "    )"
   ]
  },
  {
   "cell_type": "code",
   "execution_count": 61,
   "id": "e4d8569b",
   "metadata": {},
   "outputs": [
    {
     "ename": "AttributeError",
     "evalue": "type object 'FieldInfo' has no attribute '_construct'",
     "output_type": "error",
     "traceback": [
      "\u001b[31m---------------------------------------------------------------------------\u001b[39m",
      "\u001b[31mAttributeError\u001b[39m                            Traceback (most recent call last)",
      "\u001b[36mCell\u001b[39m\u001b[36m \u001b[39m\u001b[32mIn[61]\u001b[39m\u001b[32m, line 1\u001b[39m\n\u001b[32m----> \u001b[39m\u001b[32m1\u001b[39m \u001b[43mcopy_with_construct\u001b[49m\u001b[43m(\u001b[49m\u001b[43mfield_with_meta\u001b[49m\u001b[43m,\u001b[49m\u001b[43mannotation\u001b[49m\u001b[43m=\u001b[49m\u001b[38;5;28;43mstr\u001b[39;49m\u001b[43m)\u001b[49m\n",
      "\u001b[36mCell\u001b[39m\u001b[36m \u001b[39m\u001b[32mIn[59]\u001b[39m\u001b[32m, line 3\u001b[39m, in \u001b[36mcopy_with_construct\u001b[39m\u001b[34m(original, **overrides)\u001b[39m\n\u001b[32m      1\u001b[39m \u001b[38;5;28;01mdef\u001b[39;00m\u001b[38;5;250m \u001b[39m\u001b[34mcopy_with_construct\u001b[39m(original: FieldInfo, **overrides) -> FieldInfo:\n\u001b[32m      2\u001b[39m \u001b[38;5;250m    \u001b[39m\u001b[33;03m\"\"\"Use _construct to properly merge FieldInfo instances\"\"\"\u001b[39;00m\n\u001b[32m----> \u001b[39m\u001b[32m3\u001b[39m     \u001b[38;5;28;01mreturn\u001b[39;00m \u001b[43mFieldInfo\u001b[49m\u001b[43m.\u001b[49m\u001b[43m_construct\u001b[49m( \u001b[38;5;66;03m# type: ignore\u001b[39;00m\n\u001b[32m      4\u001b[39m         metadata=original,  \u001b[38;5;66;03m# Pass original as metadata to merge\u001b[39;00m\n\u001b[32m      5\u001b[39m         **overrides\n\u001b[32m      6\u001b[39m     )\n",
      "\u001b[31mAttributeError\u001b[39m: type object 'FieldInfo' has no attribute '_construct'"
     ]
    }
   ],
   "source": [
    "copy_with_construct(field_with_meta,annotation=str)"
   ]
  },
  {
   "cell_type": "code",
   "execution_count": 67,
   "id": "5d4727bb",
   "metadata": {},
   "outputs": [],
   "source": [
    "from field_ops import modify_fieldinfo"
   ]
  },
  {
   "cell_type": "code",
   "execution_count": 71,
   "id": "769cc623",
   "metadata": {},
   "outputs": [],
   "source": [
    "m1=modify_fieldinfo(field_with_meta, annotation=str, default=42,)"
   ]
  },
  {
   "cell_type": "code",
   "execution_count": null,
   "id": "3b041868",
   "metadata": {},
   "outputs": [
    {
     "data": {
      "text/plain": [
       "{'type_changes': {'root.annotation': {'old_type': types.UnionType,\n",
       "   'new_type': str,\n",
       "   'old_value': int | float,\n",
       "   'new_value': str},\n",
       "  'root.default': {'old_type': pydantic_core._pydantic_core.PydanticUndefinedType,\n",
       "   'new_type': int,\n",
       "   'old_value': PydanticUndefined,\n",
       "   'new_value': 42}}}"
      ]
     },
     "execution_count": 73,
     "metadata": {},
     "output_type": "execute_result"
    }
   ],
   "source": [
    "DeepDiff(field_with_meta,m1)"
   ]
  },
  {
   "cell_type": "code",
   "execution_count": 75,
   "id": "4817c414",
   "metadata": {},
   "outputs": [
    {
     "data": {
      "text/plain": [
       "True"
      ]
     },
     "execution_count": 75,
     "metadata": {},
     "output_type": "execute_result"
    }
   ],
   "source": [
    "Union[int,str]== Union[str,int]"
   ]
  }
 ],
 "metadata": {
  "kernelspec": {
   "display_name": "pydantic_variations",
   "language": "python",
   "name": "python3"
  },
  "language_info": {
   "codemirror_mode": {
    "name": "ipython",
    "version": 3
   },
   "file_extension": ".py",
   "mimetype": "text/x-python",
   "name": "python",
   "nbconvert_exporter": "python",
   "pygments_lexer": "ipython3",
   "version": "3.12.4"
  }
 },
 "nbformat": 4,
 "nbformat_minor": 5
}
