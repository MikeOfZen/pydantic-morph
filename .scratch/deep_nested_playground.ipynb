{
 "cells": [
  {
   "cell_type": "markdown",
   "id": "3a0af509",
   "metadata": {},
   "source": [
    "# Deep Nested Pydantic Variants Playground\n",
    "\n",
    "This notebook demonstrates how to work with deeply nested BaseModel schemas (3 levels deep) and use transformers to create variants with different behaviors. We'll explore:\n",
    "\n",
    "1. Creating complex nested schemas\n",
    "2. Applying transformers like Filter, Optional, and Rename\n",
    "3. Using SwitchNested to switch all nested models to specific variants\n",
    "4. Building and attaching variant models\n",
    "5. Testing the resulting variants with real data"
   ]
  },
  {
   "cell_type": "markdown",
   "id": "57ae4965",
   "metadata": {},
   "source": [
    "## 1. Import Required Libraries and Transformers\n",
    "\n",
    "Import all the necessary modules from our pydantic_variants system."
   ]
  },
  {
   "cell_type": "code",
   "execution_count": 1,
   "id": "49ad49f3",
   "metadata": {},
   "outputs": [
    {
     "name": "stdout",
     "output_type": "stream",
     "text": [
      "All modules imported successfully!\n"
     ]
    }
   ],
   "source": [
    "from typing import List, Optional\n",
    "from datetime import datetime\n",
    "from pydantic import BaseModel, Field\n",
    "\n",
    "# Import our core transformers and utilities\n",
    "from core import (\n",
    "    VariantContext, \n",
    "    VariantPipe,\n",
    "    Filter, \n",
    "    Optional as OptionalTransformer, \n",
    "    Rename, \n",
    "    Build, \n",
    "    Attach,\n",
    "    SetFields\n",
    ")\n",
    "from transformers.switch_variant import SwitchNested\n",
    "from pydantic.fields import FieldInfo\n",
    "from deepdiff import DeepDiff\n",
    "print(\"All modules imported successfully!\")"
   ]
  },
  {
   "cell_type": "markdown",
   "id": "42eca62a",
   "metadata": {},
   "source": [
    "## 2. Define Deeply Nested BaseModel Schema (3 Levels)\n",
    "\n",
    "Let's create a realistic example with 3 levels of nesting:\n",
    "- **Level 3**: `Address` - The deepest level with basic fields\n",
    "- **Level 2**: `Contact` - Contains an Address and contact info\n",
    "- **Level 1**: `User` - The top level containing Contact and user data"
   ]
  },
  {
   "cell_type": "code",
   "execution_count": 2,
   "id": "594a1740",
   "metadata": {},
   "outputs": [
    {
     "name": "stdout",
     "output_type": "stream",
     "text": [
      "Nested models defined:\n",
      "Address fields: ['street', 'city', 'state', 'postal_code', 'country', 'apartment', 'is_primary']\n",
      "Contact fields: ['email', 'phone', 'address', 'emergency_contact_name', 'emergency_contact_phone', 'preferred_contact_method']\n",
      "User fields: ['user_id', 'username', 'first_name', 'last_name', 'contact', 'created_at', 'last_login', 'is_active', 'role', 'metadata']\n"
     ]
    }
   ],
   "source": [
    "# Level 3: Address (deepest level)\n",
    "class Address(BaseModel):\n",
    "    \"\"\"Address information - Level 3 (deepest)\"\"\"\n",
    "    street: str\n",
    "    city: str\n",
    "    state: str\n",
    "    postal_code: str\n",
    "    country: str \n",
    "    apartment: Optional[str] = None\n",
    "    is_primary: bool = True\n",
    "\n",
    "class AddressB(BaseModel):\n",
    "    \"\"\"Address information - Level 3 (deepest)\"\"\"\n",
    "    street: str\n",
    "    city: str\n",
    "    blabla: str\n",
    "    postal_code: str\n",
    "    country: str \n",
    "    apartment: Optional[str] = None\n",
    "    is_primary: bool = True\n",
    "\n",
    "# Level 2: Contact (middle level)\n",
    "class Contact(BaseModel):\n",
    "    \"\"\"Contact information - Level 2 (middle)\"\"\"\n",
    "    email: str\n",
    "    phone: str\n",
    "    address: Optional[Address|AddressB]  # Nested Level 3\n",
    "    emergency_contact_name: str\n",
    "    emergency_contact_phone: str\n",
    "    preferred_contact_method: str = \"email\"\n",
    "\n",
    "# Level 1: User (top level)\n",
    "class User(BaseModel):\n",
    "    \"\"\"User model - Level 1 (top level)\"\"\"\n",
    "    user_id: int\n",
    "    username: str\n",
    "    first_name: str\n",
    "    last_name: str\n",
    "    contact: Contact  # Nested Level 2 (which contains Level 3)\n",
    "    created_at: datetime\n",
    "    last_login: Optional[datetime] = None\n",
    "    is_active: bool = True\n",
    "    role: str = \"user\"\n",
    "    metadata: dict = Field(default_factory=dict)\n",
    "\n",
    "print(\"Nested models defined:\")\n",
    "print(f\"Address fields: {list(Address.model_fields.keys())}\")\n",
    "print(f\"Contact fields: {list(Contact.model_fields.keys())}\")\n",
    "print(f\"User fields: {list(User.model_fields.keys())}\")"
   ]
  },
  {
   "cell_type": "markdown",
   "id": "c65f2c95",
   "metadata": {},
   "source": [
    "## 3. Create Variants for Each Level\n",
    "\n",
    "First, let's create different variants for each level of our nested models. We'll create:\n",
    "- **Input** variants - for data validation when receiving data\n",
    "- **Output** variants - for API responses with filtered/transformed fields"
   ]
  },
  {
   "cell_type": "code",
   "execution_count": 3,
   "id": "b2558bcd",
   "metadata": {},
   "outputs": [
    {
     "data": {
      "text/plain": [
       "{'type_changes': {\"root.model_fields['country'].annotation\": {'old_type': str,\n",
       "   'new_type': typing.Optional[str]},\n",
       "  \"root.model_fields['country'].default\": {'old_type': pydantic_core._pydantic_core.PydanticUndefinedType,\n",
       "   'new_type': NoneType,\n",
       "   'old_value': PydanticUndefined,\n",
       "   'new_value': None}},\n",
       " 'attribute_removed': ['root._variants']}"
      ]
     },
     "execution_count": 3,
     "metadata": {},
     "output_type": "execute_result"
    }
   ],
   "source": [
    "# Create Input variant for Address (Level 3) - make some fields optional\n",
    "address_input_pipeline = VariantPipe().then(VariantContext(\"Input\")\n",
    ").then(\n",
    "    OptionalTransformer(include_only=['apartment', 'country', 'is_primary'])\n",
    ").then(\n",
    "    Build()\n",
    ").then(\n",
    "    Attach()\n",
    ")\n",
    "\n",
    "\n",
    "Address_input = address_input_pipeline.process(Address).current_variant\n",
    "address_input_pipeline.process(AddressB)\n",
    "DeepDiff(Address, Address_input, exclude_regex_paths=[r\".*_original_assignment\",r\".*_attributes_set\"])"
   ]
  },
  {
   "cell_type": "code",
   "execution_count": 4,
   "id": "742ffd56",
   "metadata": {},
   "outputs": [
    {
     "name": "stdout",
     "output_type": "stream",
     "text": [
      "Address Output variant created!\n",
      "Address Output fields: ['street', 'city', 'state', 'zip', 'country', 'apt']\n",
      "\n",
      "📊 DeepDiff Analysis:\n",
      "{'values_changed': {'root.model_fields': {'new_value': {'street': FieldInfo(annotation=str, required=True), 'city': FieldInfo(annotation=str, required=True), 'blabla': FieldInfo(annotation=str, required=True), 'zip': FieldInfo(annotation=str, required=True), 'country': FieldInfo(annotation=str, required=True), 'apt': FieldInfo(annotation=Union[str, NoneType], required=False, default=None)}, 'old_value': {'street': FieldInfo(annotation=str, required=True), 'city': FieldInfo(annotation=str, required=True), 'state': FieldInfo(annotation=str, required=True), 'postal_code': FieldInfo(annotation=str, required=True), 'country': FieldInfo(annotation=str, required=True), 'apartment': FieldInfo(annotation=Union[str, NoneType], required=False, default=None), 'is_primary': FieldInfo(annotation=bool, required=False, default=True)}}}, 'attribute_removed': ['root._variants']}\n"
     ]
    }
   ],
   "source": [
    "# Create Output variant for Address - hide internal fields, rename some fields  \n",
    "address_output_pipeline = VariantPipe().then(VariantContext(\"Output\")).then(\n",
    "    Filter(exclude=['is_primary'])  # Remove internal field\n",
    ").then(\n",
    "    Rename(mapping={'postal_code': 'zip', 'apartment': 'apt'})  # API-friendly names\n",
    ").then(\n",
    "    Build()\n",
    ").then(\n",
    "    Attach()\n",
    ")\n",
    "\n",
    "address_output_context = address_output_pipeline.process(Address)\n",
    "address_output_pipeline.process(AddressB)\n",
    "Address_output = address_output_context.current_variant\n",
    "Address_output = address_output_context.current_variant\n",
    "\n",
    "print(\"Address Output variant created!\")\n",
    "print(f\"Address Output fields: {list(Address._variants['Output'].model_fields.keys())}\")\n",
    "\n",
    "print(\"\\n📊 DeepDiff Analysis:\")\n",
    "diff = DeepDiff(Address, Address_output, exclude_regex_paths=[r\".*_original_assignment\", r\".*_attributes_set\"])\n",
    "if diff:\n",
    "    print(diff)\n",
    "else:\n",
    "    print(\"No significant differences found\")"
   ]
  },
  {
   "cell_type": "code",
   "execution_count": 5,
   "id": "ff6fd1b1",
   "metadata": {},
   "outputs": [
    {
     "data": {
      "text/plain": [
       "{'street': FieldInfo(annotation=str, required=True),\n",
       " 'city': FieldInfo(annotation=str, required=True),\n",
       " 'blabla': FieldInfo(annotation=str, required=True),\n",
       " 'zip': FieldInfo(annotation=str, required=True),\n",
       " 'country': FieldInfo(annotation=str, required=True),\n",
       " 'apt': FieldInfo(annotation=Union[str, NoneType], required=False, default=None)}"
      ]
     },
     "execution_count": 5,
     "metadata": {},
     "output_type": "execute_result"
    }
   ],
   "source": [
    "Address_output.model_fields"
   ]
  },
  {
   "cell_type": "code",
   "execution_count": 6,
   "id": "1a4677ad",
   "metadata": {},
   "outputs": [
    {
     "data": {
      "text/plain": [
       "__main__.AddressBOutput"
      ]
     },
     "execution_count": 6,
     "metadata": {},
     "output_type": "execute_result"
    }
   ],
   "source": [
    "AddressB._variants['Output']"
   ]
  },
  {
   "cell_type": "code",
   "execution_count": 7,
   "id": "7bde952d",
   "metadata": {},
   "outputs": [
    {
     "name": "stdout",
     "output_type": "stream",
     "text": [
      "Contact Input variant created!\n",
      "Contact Input uses Address variant: typing.Union[__main__.AddressInput, __main__.AddressBInput, NoneType]\n",
      "Contact Input required fields: ['email', 'phone', 'address']\n",
      "\n",
      "📊 DeepDiff Analysis:\n",
      "{'type_changes': {\"root.model_fields['emergency_contact_name'].annotation\": {'old_type': <class 'str'>, 'new_type': typing.Optional[str]}, \"root.model_fields['emergency_contact_name'].default\": {'old_type': <class 'pydantic_core._pydantic_core.PydanticUndefinedType'>, 'new_type': <class 'NoneType'>, 'old_value': PydanticUndefined, 'new_value': None}, \"root.model_fields['emergency_contact_phone'].annotation\": {'old_type': <class 'str'>, 'new_type': typing.Optional[str]}, \"root.model_fields['emergency_contact_phone'].default\": {'old_type': <class 'pydantic_core._pydantic_core.PydanticUndefinedType'>, 'new_type': <class 'NoneType'>, 'old_value': PydanticUndefined, 'new_value': None}}, 'attribute_removed': ['root._variants']}\n"
     ]
    }
   ],
   "source": [
    "# Create Input variant for Contact (Level 2) \n",
    "contact_input_pipeline = VariantPipe().then(VariantContext(\"Input\")).then(\n",
    "    OptionalTransformer(include_only=['emergency_contact_name', 'emergency_contact_phone', 'preferred_contact_method'])\n",
    ").then(\n",
    "    SwitchNested('Input')  # Switch nested Address to Input variant\n",
    ").then(\n",
    "    Build()\n",
    ").then(\n",
    "    Attach()\n",
    ")\n",
    "\n",
    "contact_input_context = contact_input_pipeline.process(Contact)\n",
    "Contact_input = contact_input_context.current_variant\n",
    "\n",
    "print(\"Contact Input variant created!\")\n",
    "print(f\"Contact Input uses Address variant: {contact_input_context.current_variant.model_fields['address'].annotation}\")\n",
    "print(f\"Contact Input required fields: {[name for name, field in Contact._variants['Input'].model_fields.items() if field.is_required()]}\")\n",
    "\n",
    "print(\"\\n📊 DeepDiff Analysis:\")\n",
    "diff = DeepDiff(Contact, Contact_input, exclude_regex_paths=[r\".*_original_assignment\", r\".*_attributes_set\"])\n",
    "if diff:\n",
    "    print(diff)\n",
    "else:\n",
    "    print(\"No significant differences found\")"
   ]
  },
  {
   "cell_type": "code",
   "execution_count": 8,
   "id": "b8177439",
   "metadata": {},
   "outputs": [
    {
     "data": {
      "text/plain": [
       "{'email': FieldInfo(annotation=str, required=True),\n",
       " 'phone': FieldInfo(annotation=str, required=True),\n",
       " 'address': FieldInfo(annotation=Union[AddressInput, AddressBInput, NoneType], required=True),\n",
       " 'emergency_contact_name': FieldInfo(annotation=Union[str, NoneType], required=False, default=None),\n",
       " 'emergency_contact_phone': FieldInfo(annotation=Union[str, NoneType], required=False, default=None),\n",
       " 'preferred_contact_method': FieldInfo(annotation=str, required=False, default='email')}"
      ]
     },
     "execution_count": 8,
     "metadata": {},
     "output_type": "execute_result"
    }
   ],
   "source": [
    "Contact_input.model_fields"
   ]
  },
  {
   "cell_type": "code",
   "execution_count": 9,
   "id": "d9615d2e",
   "metadata": {},
   "outputs": [
    {
     "data": {
      "text/plain": [
       "{'email': FieldInfo(annotation=str, required=True),\n",
       " 'phone': FieldInfo(annotation=str, required=True),\n",
       " 'address': FieldInfo(annotation=Union[Address, AddressB, NoneType], required=True),\n",
       " 'emergency_contact_name': FieldInfo(annotation=str, required=True),\n",
       " 'emergency_contact_phone': FieldInfo(annotation=str, required=True),\n",
       " 'preferred_contact_method': FieldInfo(annotation=str, required=False, default='email')}"
      ]
     },
     "execution_count": 9,
     "metadata": {},
     "output_type": "execute_result"
    }
   ],
   "source": [
    "Contact.model_fields"
   ]
  },
  {
   "cell_type": "code",
   "execution_count": 10,
   "id": "037fbe0c",
   "metadata": {},
   "outputs": [
    {
     "name": "stdout",
     "output_type": "stream",
     "text": [
      "Contact Output variant created!\n",
      "Contact Output fields: ['email', 'phone', 'address', 'preferred_contact_method']\n",
      "Contact Output uses Address variant: typing.Union[__main__.AddressOutput, __main__.AddressBOutput, NoneType]\n",
      "\n",
      "📊 DeepDiff Analysis:\n",
      "{'dictionary_item_removed': [\"root.model_fields['emergency_contact_name']\", \"root.model_fields['emergency_contact_phone']\"], 'attribute_removed': ['root._variants']}\n"
     ]
    }
   ],
   "source": [
    "# Create Output variant for Contact - filter sensitive data\n",
    "contact_output_pipeline = VariantPipe().then(VariantContext(\"Output\")).then(\n",
    "    Filter(exclude=['emergency_contact_name', 'emergency_contact_phone'])  # Hide emergency info in public API\n",
    ").then(\n",
    "    SwitchNested('Output')  # Switch nested Address to Output variant  \n",
    ").then(\n",
    "    Build()\n",
    ").then(\n",
    "    Attach()\n",
    ")\n",
    "\n",
    "contact_output_context = contact_output_pipeline.process(Contact)\n",
    "Contact_output = contact_output_context.current_variant\n",
    "\n",
    "print(\"Contact Output variant created!\")\n",
    "print(f\"Contact Output fields: {list(Contact._variants['Output'].model_fields.keys())}\")\n",
    "print(f\"Contact Output uses Address variant: {contact_output_context.current_variant.model_fields['address'].annotation}\")\n",
    "\n",
    "print(\"\\n📊 DeepDiff Analysis:\")\n",
    "diff = DeepDiff(Contact, Contact_output, exclude_regex_paths=[r\".*_original_assignment\", r\".*_attributes_set\"])\n",
    "if diff:\n",
    "    print(diff)\n",
    "else:\n",
    "    print(\"No significant differences found\")"
   ]
  },
  {
   "cell_type": "code",
   "execution_count": 11,
   "id": "73dd99dd",
   "metadata": {},
   "outputs": [
    {
     "ename": "AttributeError",
     "evalue": "model_fields",
     "output_type": "error",
     "traceback": [
      "\u001b[31m---------------------------------------------------------------------------\u001b[39m",
      "\u001b[31mAttributeError\u001b[39m                            Traceback (most recent call last)",
      "\u001b[36mCell\u001b[39m\u001b[36m \u001b[39m\u001b[32mIn[11]\u001b[39m\u001b[32m, line 1\u001b[39m\n\u001b[32m----> \u001b[39m\u001b[32m1\u001b[39m \u001b[43mContact_output\u001b[49m\u001b[43m.\u001b[49m\u001b[43mmodel_fields\u001b[49m\u001b[43m[\u001b[49m\u001b[33;43m'\u001b[39;49m\u001b[33;43maddress\u001b[39;49m\u001b[33;43m'\u001b[39;49m\u001b[43m]\u001b[49m\u001b[43m.\u001b[49m\u001b[43mannotation\u001b[49m\u001b[43m.\u001b[49m\u001b[43mmodel_fields\u001b[49m\n",
      "\u001b[36mFile \u001b[39m\u001b[32mC:\\Program Files\\Python312\\Lib\\typing.py:1203\u001b[39m, in \u001b[36m_BaseGenericAlias.__getattr__\u001b[39m\u001b[34m(self, attr)\u001b[39m\n\u001b[32m   1200\u001b[39m \u001b[38;5;66;03m# We are careful for copy and pickle.\u001b[39;00m\n\u001b[32m   1201\u001b[39m \u001b[38;5;66;03m# Also for simplicity we don't relay any dunder names\u001b[39;00m\n\u001b[32m   1202\u001b[39m \u001b[38;5;28;01mif\u001b[39;00m \u001b[33m'\u001b[39m\u001b[33m__origin__\u001b[39m\u001b[33m'\u001b[39m \u001b[38;5;129;01min\u001b[39;00m \u001b[38;5;28mself\u001b[39m.\u001b[34m__dict__\u001b[39m \u001b[38;5;129;01mand\u001b[39;00m \u001b[38;5;129;01mnot\u001b[39;00m _is_dunder(attr):\n\u001b[32m-> \u001b[39m\u001b[32m1203\u001b[39m     \u001b[38;5;28;01mreturn\u001b[39;00m \u001b[38;5;28;43mgetattr\u001b[39;49m\u001b[43m(\u001b[49m\u001b[38;5;28;43mself\u001b[39;49m\u001b[43m.\u001b[49m\u001b[43m__origin__\u001b[49m\u001b[43m,\u001b[49m\u001b[43m \u001b[49m\u001b[43mattr\u001b[49m\u001b[43m)\u001b[49m\n\u001b[32m   1204\u001b[39m \u001b[38;5;28;01mraise\u001b[39;00m \u001b[38;5;167;01mAttributeError\u001b[39;00m(attr)\n",
      "\u001b[36mFile \u001b[39m\u001b[32mC:\\Program Files\\Python312\\Lib\\typing.py:489\u001b[39m, in \u001b[36m_SpecialForm.__getattr__\u001b[39m\u001b[34m(self, item)\u001b[39m\n\u001b[32m    486\u001b[39m \u001b[38;5;28;01mif\u001b[39;00m item \u001b[38;5;129;01min\u001b[39;00m {\u001b[33m'\u001b[39m\u001b[33m__name__\u001b[39m\u001b[33m'\u001b[39m, \u001b[33m'\u001b[39m\u001b[33m__qualname__\u001b[39m\u001b[33m'\u001b[39m}:\n\u001b[32m    487\u001b[39m     \u001b[38;5;28;01mreturn\u001b[39;00m \u001b[38;5;28mself\u001b[39m._name\n\u001b[32m--> \u001b[39m\u001b[32m489\u001b[39m \u001b[38;5;28;01mraise\u001b[39;00m \u001b[38;5;167;01mAttributeError\u001b[39;00m(item)\n",
      "\u001b[31mAttributeError\u001b[39m: model_fields"
     ]
    }
   ],
   "source": [
    "Contact_output.model_fields['address'].annotation.model_fields"
   ]
  },
  {
   "cell_type": "markdown",
   "id": "87defb35",
   "metadata": {},
   "source": [
    "## 4. Create User Variants with Deep Nesting (Level 1)\n",
    "\n",
    "Now let's create User variants that will automatically use the appropriate nested variants through the SwitchNested transformer."
   ]
  },
  {
   "cell_type": "code",
   "execution_count": 19,
   "id": "1c0bc148",
   "metadata": {},
   "outputs": [
    {
     "name": "stdout",
     "output_type": "stream",
     "text": [
      "User Input variant created!\n",
      "User Input required fields: ['user_id', 'username', 'first_name', 'last_name', 'contact']\n",
      "User Input -> Contact variant: <class '__main__.ContactInput'>\n",
      "User Input -> Contact -> Address variant: typing.Union[__main__.AddressInput, __main__.AddressBInput, NoneType]\n",
      "\n",
      "📊 DeepDiff Analysis:\n",
      "{'type_changes': {\"root.model_fields['contact'].annotation.model_fields['emergency_contact_name'].annotation\": {'old_type': <class 'str'>, 'new_type': typing.Optional[str]}, \"root.model_fields['contact'].annotation.model_fields['emergency_contact_name'].default\": {'old_type': <class 'pydantic_core._pydantic_core.PydanticUndefinedType'>, 'new_type': <class 'NoneType'>, 'old_value': PydanticUndefined, 'new_value': None}, \"root.model_fields['contact'].annotation.model_fields['emergency_contact_phone'].annotation\": {'old_type': <class 'str'>, 'new_type': typing.Optional[str]}, \"root.model_fields['contact'].annotation.model_fields['emergency_contact_phone'].default\": {'old_type': <class 'pydantic_core._pydantic_core.PydanticUndefinedType'>, 'new_type': <class 'NoneType'>, 'old_value': PydanticUndefined, 'new_value': None}, \"root.model_fields['created_at'].default_factory\": {'old_type': <class 'NoneType'>, 'new_type': <class 'builtin_function_or_method'>, 'old_value': None, 'new_value': <built-in method now of type object at 0x00007FF932B57640>}}, 'attribute_removed': ['root._variants', \"root.model_fields['contact'].annotation._variants\"]}\n"
     ]
    }
   ],
   "source": [
    "# Create Input variant for User (Level 1) - for user registration/creation\n",
    "user_input_pipeline = VariantPipe().then(VariantContext(\"Input\")).then(\n",
    "    OptionalTransformer(include_only=['last_login', 'is_active', 'role', 'metadata'])  # Make optional for input\n",
    ").then(\n",
    "    SetFields({  # Add a field for input processing\n",
    "        'created_at': FieldInfo(annotation=datetime, default_factory=datetime.now)\n",
    "    })\n",
    ").then(\n",
    "    SwitchNested('Input')  # This will switch Contact to Input variant, which in turn uses Address Input variant\n",
    ").then(\n",
    "    Build()\n",
    ").then(\n",
    "    Attach()\n",
    ")\n",
    "\n",
    "user_input_context = user_input_pipeline.process(User)\n",
    "User_input = user_input_context.current_variant\n",
    "\n",
    "print(\"User Input variant created!\")\n",
    "print(f\"User Input required fields: {[name for name, field in User._variants['Input'].model_fields.items() if field.is_required()]}\")\n",
    "\n",
    "# Let's inspect the nested structure\n",
    "user_input_model = User._variants['Input']\n",
    "contact_annotation = user_input_model.model_fields['contact'].annotation\n",
    "print(f\"User Input -> Contact variant: {contact_annotation}\")\n",
    "\n",
    "# Check if the Contact variant has the Address variant\n",
    "if hasattr(contact_annotation, 'model_fields'):\n",
    "    address_annotation = contact_annotation.model_fields['address'].annotation\n",
    "    print(f\"User Input -> Contact -> Address variant: {address_annotation}\")\n",
    "\n",
    "print(\"\\n📊 DeepDiff Analysis:\")\n",
    "diff = DeepDiff(User, User_input, exclude_regex_paths=[r\".*_original_assignment\", r\".*_attributes_set\"])\n",
    "if diff:\n",
    "    print(diff)\n",
    "else:\n",
    "    print(\"No significant differences found\")"
   ]
  },
  {
   "cell_type": "code",
   "execution_count": null,
   "id": "eed4ba8e",
   "metadata": {},
   "outputs": [
    {
     "data": {
      "text/plain": [
       "{'type_changes': {\"root.model_fields['contact'].annotation.model_fields['emergency_contact_name'].annotation\": {'old_type': str,\n",
       "   'new_type': typing.Optional[str]},\n",
       "  \"root.model_fields['contact'].annotation.model_fields['emergency_contact_name'].default\": {'old_type': pydantic_core._pydantic_core.PydanticUndefinedType,\n",
       "   'new_type': NoneType,\n",
       "   'old_value': PydanticUndefined,\n",
       "   'new_value': None},\n",
       "  \"root.model_fields['contact'].annotation.model_fields['emergency_contact_phone'].annotation\": {'old_type': str,\n",
       "   'new_type': typing.Optional[str]},\n",
       "  \"root.model_fields['contact'].annotation.model_fields['emergency_contact_phone'].default\": {'old_type': pydantic_core._pydantic_core.PydanticUndefinedType,\n",
       "   'new_type': NoneType,\n",
       "   'old_value': PydanticUndefined,\n",
       "   'new_value': None},\n",
       "  \"root.model_fields['created_at'].default_factory\": {'old_type': NoneType,\n",
       "   'new_type': builtin_function_or_method,\n",
       "   'old_value': None,\n",
       "   'new_value': <function datetime.now(tz=None)>}},\n",
       " 'attribute_removed': ['root._variants', \"root.model_fields['contact'].annotation._variants\"]}"
      ]
     },
     "execution_count": 51,
     "metadata": {},
     "output_type": "execute_result"
    }
   ],
   "source": [
    "diff"
   ]
  },
  {
   "cell_type": "code",
   "execution_count": 15,
   "id": "e25f61c3",
   "metadata": {},
   "outputs": [
    {
     "name": "stdout",
     "output_type": "stream",
     "text": [
      "User Output variant created!\n",
      "User Output fields: ['id', 'username', 'first_name', 'last_name', 'contact', 'created_at', 'last_login', 'is_active', 'role']\n",
      "User Output -> Contact variant: <class '__main__.ContactOutput'>\n",
      "User Output -> Contact -> Address variant: typing.Union[__main__.AddressOutput, __main__.AddressBOutput, NoneType]\n",
      "\n",
      "📊 DeepDiff Analysis:\n",
      "{'dictionary_item_added': [\"root.model_fields['id']\"], 'dictionary_item_removed': [\"root.model_fields['user_id']\", \"root.model_fields['metadata']\", \"root.model_fields['contact'].annotation.model_fields['emergency_contact_name']\", \"root.model_fields['contact'].annotation.model_fields['emergency_contact_phone']\"], 'attribute_removed': ['root._variants', \"root.model_fields['contact'].annotation._variants\"]}\n"
     ]
    }
   ],
   "source": [
    "# Create Output variant for User - for API responses  \n",
    "user_output_pipeline = VariantPipe().then(VariantContext(\"Output\")).then(\n",
    "    Filter(exclude=['metadata'])  # Hide internal metadata in public API\n",
    ").then(\n",
    "    Rename(mapping={'user_id': 'id'})  # API-friendly field name\n",
    ").then(\n",
    "    SwitchNested('Output')  # This cascades down: Contact -> Output, Address -> Output\n",
    ").then(\n",
    "    Build()\n",
    ").then(\n",
    "    Attach()\n",
    ")\n",
    "\n",
    "user_output_context = user_output_pipeline.process(User)\n",
    "User_output = user_output_context.current_variant\n",
    "\n",
    "print(\"User Output variant created!\")\n",
    "print(f\"User Output fields: {list(User._variants['Output'].model_fields.keys())}\")\n",
    "\n",
    "# Let's inspect the full nested structure\n",
    "user_output_model = User._variants['Output']\n",
    "contact_annotation = user_output_model.model_fields['contact'].annotation\n",
    "print(f\"User Output -> Contact variant: {contact_annotation}\")\n",
    "\n",
    "# Check the deep nesting\n",
    "if hasattr(contact_annotation, 'model_fields'):\n",
    "    address_annotation = contact_annotation.model_fields['address'].annotation\n",
    "    print(f\"User Output -> Contact -> Address variant: {address_annotation}\")\n",
    "\n",
    "print(\"\\n📊 DeepDiff Analysis:\")\n",
    "diff = DeepDiff(User, User_output, exclude_regex_paths=[r\".*_original_assignment\", r\".*_attributes_set\"])\n",
    "if diff:\n",
    "    print(diff)\n",
    "else:\n",
    "    print(\"No significant differences found\")"
   ]
  },
  {
   "cell_type": "code",
   "execution_count": 16,
   "id": "661abf7a",
   "metadata": {},
   "outputs": [
    {
     "data": {
      "text/plain": [
       "typing.Union[__main__.AddressOutput, __main__.AddressBOutput, NoneType]"
      ]
     },
     "execution_count": 16,
     "metadata": {},
     "output_type": "execute_result"
    }
   ],
   "source": [
    "address_annotation"
   ]
  },
  {
   "cell_type": "code",
   "execution_count": null,
   "id": "8f505397",
   "metadata": {},
   "outputs": [
    {
     "data": {
      "text/plain": [
       "{'$defs': {'AddressOutput': {'description': 'Address information - Level 3 (deepest)',\n",
       "   'properties': {'street': {'title': 'Street', 'type': 'string'},\n",
       "    'city': {'title': 'City', 'type': 'string'},\n",
       "    'state': {'title': 'State', 'type': 'string'},\n",
       "    'zip': {'title': 'Zip', 'type': 'string'},\n",
       "    'country': {'title': 'Country', 'type': 'string'},\n",
       "    'apt': {'anyOf': [{'type': 'string'}, {'type': 'null'}],\n",
       "     'default': None,\n",
       "     'title': 'Apt'}},\n",
       "   'required': ['street', 'city', 'state', 'zip', 'country'],\n",
       "   'title': 'AddressOutput',\n",
       "   'type': 'object'},\n",
       "  'ContactOutput': {'description': 'Contact information - Level 2 (middle)',\n",
       "   'properties': {'email': {'title': 'Email', 'type': 'string'},\n",
       "    'phone': {'title': 'Phone', 'type': 'string'},\n",
       "    'address': {'$ref': '#/$defs/AddressOutput'},\n",
       "    'preferred_contact_method': {'default': 'email',\n",
       "     'title': 'Preferred Contact Method',\n",
       "     'type': 'string'}},\n",
       "   'required': ['email', 'phone', 'address'],\n",
       "   'title': 'ContactOutput',\n",
       "   'type': 'object'}},\n",
       " 'description': 'User model - Level 1 (top level)',\n",
       " 'properties': {'id': {'title': 'Id', 'type': 'integer'},\n",
       "  'username': {'title': 'Username', 'type': 'string'},\n",
       "  'first_name': {'title': 'First Name', 'type': 'string'},\n",
       "  'last_name': {'title': 'Last Name', 'type': 'string'},\n",
       "  'contact': {'$ref': '#/$defs/ContactOutput'},\n",
       "  'created_at': {'format': 'date-time',\n",
       "   'title': 'Created At',\n",
       "   'type': 'string'},\n",
       "  'last_login': {'anyOf': [{'format': 'date-time', 'type': 'string'},\n",
       "    {'type': 'null'}],\n",
       "   'default': None,\n",
       "   'title': 'Last Login'},\n",
       "  'is_active': {'default': True, 'title': 'Is Active', 'type': 'boolean'},\n",
       "  'role': {'default': 'user', 'title': 'Role', 'type': 'string'}},\n",
       " 'required': ['id',\n",
       "  'username',\n",
       "  'first_name',\n",
       "  'last_name',\n",
       "  'contact',\n",
       "  'created_at'],\n",
       " 'title': 'UserOutput',\n",
       " 'type': 'object'}"
      ]
     },
     "execution_count": 25,
     "metadata": {},
     "output_type": "execute_result"
    }
   ],
   "source": [
    "User_output.model_json_schema()"
   ]
  },
  {
   "cell_type": "markdown",
   "id": "961a5ca6",
   "metadata": {},
   "source": [
    "## 5. Test the Variants with Real Data\n",
    "\n",
    "Let's create some test data and see how our variants behave differently:"
   ]
  },
  {
   "cell_type": "code",
   "execution_count": 21,
   "id": "b1ab5710",
   "metadata": {},
   "outputs": [
    {
     "name": "stdout",
     "output_type": "stream",
     "text": [
      "✅ User Input variant instance created successfully!\n",
      "Created at: 2025-08-03 00:53:02.058877\n",
      "User role: user\n",
      "Contact address country: None\n",
      "Is primary address: True\n",
      "\n",
      "📝 Input instance structure:\n",
      "User ID: 123\n",
      "Contact email: john@example.com\n",
      "Address: 123 Main St, Anytown\n"
     ]
    }
   ],
   "source": [
    "# Test data for Input variant (simulating user registration)\n",
    "input_data = {\n",
    "    \"user_id\": 123,\n",
    "    \"username\": \"johndoe\",\n",
    "    \"first_name\": \"John\", \n",
    "    \"last_name\": \"Doe\",\n",
    "    \"contact\": {\n",
    "        \"email\": \"john@example.com\",\n",
    "        \"phone\": \"+1-555-0123\",\n",
    "        \"address\": {\n",
    "            \"street\": \"123 Main St\",\n",
    "            \"city\": \"Anytown\", \n",
    "            \"state\": \"CA\",\n",
    "            \"postal_code\": \"12345\"\n",
    "            # Note: apartment, country, is_primary are optional in Input variant\n",
    "        }\n",
    "        # Note: emergency contacts are optional in Input variant\n",
    "    }\n",
    "    # Note: created_at will be auto-generated, other fields have defaults\n",
    "}\n",
    "\n",
    "# Create instance using Input variant\n",
    "UserInput = User._variants['Input']\n",
    "user_input_instance = UserInput(**input_data)\n",
    "\n",
    "print(\"✅ User Input variant instance created successfully!\")\n",
    "print(f\"Created at: {user_input_instance.created_at}\")\n",
    "print(f\"User role: {user_input_instance.role}\")\n",
    "print(f\"Contact address country: {user_input_instance.contact.address.country}\")\n",
    "print(f\"Is primary address: {user_input_instance.contact.address.is_primary}\")\n",
    "\n",
    "# Show the full nested structure\n",
    "print(\"\\n📝 Input instance structure:\")\n",
    "print(f\"User ID: {user_input_instance.user_id}\")\n",
    "print(f\"Contact email: {user_input_instance.contact.email}\")\n",
    "print(f\"Address: {user_input_instance.contact.address.street}, {user_input_instance.contact.address.city}\")"
   ]
  },
  {
   "cell_type": "code",
   "execution_count": 20,
   "id": "502930e3",
   "metadata": {},
   "outputs": [
    {
     "data": {
      "text/plain": [
       "{'Output': __main__.UserOutput, 'Input': __main__.UserInput}"
      ]
     },
     "execution_count": 20,
     "metadata": {},
     "output_type": "execute_result"
    }
   ],
   "source": [
    "User._variants"
   ]
  },
  {
   "cell_type": "code",
   "execution_count": 22,
   "id": "b05d4a5f",
   "metadata": {},
   "outputs": [
    {
     "name": "stdout",
     "output_type": "stream",
     "text": [
      "✅ Original User instance created\n",
      "✅ User Output variant instance created!\n",
      "\n",
      "📤 Output instance (API response format):\n",
      "ID: 123\n",
      "Contact email: john@example.com\n",
      "Address: 123 Main St, Anytown\n",
      "ZIP: 12345\n",
      "Apt: Apt 4B\n",
      "\n",
      "🔒 Fields filtered out from Output:\n",
      "- User metadata: Not present\n",
      "- Emergency contacts: Not present\n",
      "- Address is_primary: Not present\n"
     ]
    }
   ],
   "source": [
    "# Now let's create a full user instance with all data and then convert to Output variant\n",
    "full_user_data = {\n",
    "    \"user_id\": 123,\n",
    "    \"username\": \"johndoe\", \n",
    "    \"first_name\": \"John\",\n",
    "    \"last_name\": \"Doe\",\n",
    "    \"contact\": {\n",
    "        \"email\": \"john@example.com\",\n",
    "        \"phone\": \"+1-555-0123\", \n",
    "        \"address\": {\n",
    "            \"street\": \"123 Main St\",\n",
    "            \"city\": \"Anytown\",\n",
    "            \"state\": \"CA\", \n",
    "            \"postal_code\": \"12345\",\n",
    "            \"country\": \"USA\",\n",
    "            \"apartment\": \"Apt 4B\",\n",
    "            \"is_primary\": True\n",
    "        },\n",
    "        \"emergency_contact_name\": \"Jane Doe\",\n",
    "        \"emergency_contact_phone\": \"+1-555-0456\", \n",
    "        \"preferred_contact_method\": \"email\"\n",
    "    },\n",
    "    \"created_at\": datetime.now(),\n",
    "    \"last_login\": datetime.now(),\n",
    "    \"is_active\": True,\n",
    "    \"role\": \"admin\",\n",
    "    \"metadata\": {\"source\": \"manual_registration\", \"ip\": \"192.168.1.1\"}\n",
    "}\n",
    "\n",
    "# Create original user instance\n",
    "original_user = User(**full_user_data)\n",
    "print(\"✅ Original User instance created\")\n",
    "\n",
    "# Convert to Output variant for API response\n",
    "UserOutput = User._variants['Output']\n",
    "\n",
    "# Create the output data by extracting compatible fields\n",
    "output_data = original_user.model_dump()\n",
    "\n",
    "# Transform data for Output variant (field renames, exclusions are handled by model definition)\n",
    "output_data['id'] = output_data.pop('user_id')  # user_id -> id rename\n",
    "output_data.pop('metadata', None)  # Remove metadata  \n",
    "\n",
    "# Transform nested contact data\n",
    "contact_data = output_data['contact']\n",
    "contact_data.pop('emergency_contact_name', None)  # Filtered out in Output variant\n",
    "contact_data.pop('emergency_contact_phone', None)\n",
    "\n",
    "# Transform nested address data  \n",
    "address_data = contact_data['address']\n",
    "address_data['zip'] = address_data.pop('postal_code')  # postal_code -> zip rename\n",
    "address_data['apt'] = address_data.pop('apartment')   # apartment -> apt rename\n",
    "address_data.pop('is_primary', None)  # Filtered out in Output variant\n",
    "\n",
    "user_output_instance = UserOutput(**output_data)\n",
    "\n",
    "print(\"✅ User Output variant instance created!\")\n",
    "print(\"\\n📤 Output instance (API response format):\")\n",
    "print(f\"ID: {user_output_instance.id}\")  # Renamed field\n",
    "print(f\"Contact email: {user_output_instance.contact.email}\")\n",
    "print(f\"Address: {user_output_instance.contact.address.street}, {user_output_instance.contact.address.city}\")\n",
    "print(f\"ZIP: {user_output_instance.contact.address.zip}\")  # Renamed field\n",
    "print(f\"Apt: {user_output_instance.contact.address.apt}\")   # Renamed field\n",
    "\n",
    "# Show what fields were filtered out\n",
    "print(f\"\\n🔒 Fields filtered out from Output:\")\n",
    "print(f\"- User metadata: Not present\")\n",
    "print(f\"- Emergency contacts: Not present\") \n",
    "print(f\"- Address is_primary: Not present\")"
   ]
  },
  {
   "cell_type": "markdown",
   "id": "c87406c4",
   "metadata": {},
   "source": [
    "## 6. Compare Schema Differences\n",
    "\n",
    "Let's examine how the variants differ from the original models at each level:"
   ]
  },
  {
   "cell_type": "code",
   "execution_count": 23,
   "id": "7d7cb358",
   "metadata": {},
   "outputs": [
    {
     "name": "stdout",
     "output_type": "stream",
     "text": [
      "🔍 DEEP NESTED SCHEMA ANALYSIS\n",
      "============================================================\n",
      "\n",
      "📊 Address Input Schema Comparison:\n",
      "==================================================\n",
      "Original fields: ['apartment', 'city', 'country', 'is_primary', 'postal_code', 'state', 'street']\n",
      "Variant fields:  ['apartment', 'city', 'country', 'is_primary', 'postal_code', 'state', 'street']\n",
      "🔓 Made optional: ['country']\n",
      "\n",
      "📊 Address Output Schema Comparison:\n",
      "==================================================\n",
      "Original fields: ['apartment', 'city', 'country', 'is_primary', 'postal_code', 'state', 'street']\n",
      "Variant fields:  ['apt', 'city', 'country', 'state', 'street', 'zip']\n",
      "➕ Added fields: ['apt', 'zip']\n",
      "➖ Removed fields: ['apartment', 'is_primary', 'postal_code']\n",
      "🔓 Made optional: ['postal_code']\n",
      "\n",
      "📊 Contact Input Schema Comparison:\n",
      "==================================================\n",
      "Original fields: ['address', 'email', 'emergency_contact_name', 'emergency_contact_phone', 'phone', 'preferred_contact_method']\n",
      "Variant fields:  ['address', 'email', 'emergency_contact_name', 'emergency_contact_phone', 'phone', 'preferred_contact_method']\n",
      "🔓 Made optional: ['emergency_contact_name', 'emergency_contact_phone']\n",
      "\n",
      "📊 Contact Output Schema Comparison:\n",
      "==================================================\n",
      "Original fields: ['address', 'email', 'emergency_contact_name', 'emergency_contact_phone', 'phone', 'preferred_contact_method']\n",
      "Variant fields:  ['address', 'email', 'phone', 'preferred_contact_method']\n",
      "➖ Removed fields: ['emergency_contact_name', 'emergency_contact_phone']\n",
      "🔓 Made optional: ['emergency_contact_name', 'emergency_contact_phone']\n",
      "\n",
      "📊 User Input Schema Comparison:\n",
      "==================================================\n",
      "Original fields: ['contact', 'created_at', 'first_name', 'is_active', 'last_login', 'last_name', 'metadata', 'role', 'user_id', 'username']\n",
      "Variant fields:  ['contact', 'created_at', 'first_name', 'is_active', 'last_login', 'last_name', 'metadata', 'role', 'user_id', 'username']\n",
      "🔓 Made optional: ['created_at']\n",
      "\n",
      "📊 User Output Schema Comparison:\n",
      "==================================================\n",
      "Original fields: ['contact', 'created_at', 'first_name', 'is_active', 'last_login', 'last_name', 'metadata', 'role', 'user_id', 'username']\n",
      "Variant fields:  ['contact', 'created_at', 'first_name', 'id', 'is_active', 'last_login', 'last_name', 'role', 'username']\n",
      "➕ Added fields: ['id']\n",
      "➖ Removed fields: ['metadata', 'user_id']\n",
      "🔓 Made optional: ['user_id']\n"
     ]
    }
   ],
   "source": [
    "def compare_schemas(original_model, variant_model, model_name):\n",
    "    \"\"\"Compare original and variant model schemas\"\"\"\n",
    "    print(f\"\\n📊 {model_name} Schema Comparison:\")\n",
    "    print(\"=\" * 50)\n",
    "    \n",
    "    orig_fields = set(original_model.model_fields.keys())\n",
    "    var_fields = set(variant_model.model_fields.keys())\n",
    "    \n",
    "    print(f\"Original fields: {sorted(orig_fields)}\")\n",
    "    print(f\"Variant fields:  {sorted(var_fields)}\")\n",
    "    \n",
    "    # Show added/removed fields\n",
    "    added = var_fields - orig_fields\n",
    "    removed = orig_fields - var_fields\n",
    "    \n",
    "    if added:\n",
    "        print(f\"➕ Added fields: {sorted(added)}\")\n",
    "    if removed:\n",
    "        print(f\"➖ Removed fields: {sorted(removed)}\")\n",
    "    \n",
    "    # Show required vs optional differences\n",
    "    orig_required = {name for name, field in original_model.model_fields.items() if field.is_required()}\n",
    "    var_required = {name for name, field in variant_model.model_fields.items() if field.is_required()}\n",
    "    \n",
    "    newly_optional = orig_required - var_required\n",
    "    if newly_optional:\n",
    "        print(f\"🔓 Made optional: {sorted(newly_optional)}\")\n",
    "\n",
    "# Compare all three levels\n",
    "print(\"🔍 DEEP NESTED SCHEMA ANALYSIS\")\n",
    "print(\"=\" * 60)\n",
    "\n",
    "# Level 3: Address\n",
    "compare_schemas(Address, Address._variants['Input'], \"Address Input\")\n",
    "compare_schemas(Address, Address._variants['Output'], \"Address Output\")\n",
    "\n",
    "# Level 2: Contact  \n",
    "compare_schemas(Contact, Contact._variants['Input'], \"Contact Input\")\n",
    "compare_schemas(Contact, Contact._variants['Output'], \"Contact Output\")\n",
    "\n",
    "# Level 1: User\n",
    "compare_schemas(User, User._variants['Input'], \"User Input\") \n",
    "compare_schemas(User, User._variants['Output'], \"User Output\")"
   ]
  },
  {
   "cell_type": "markdown",
   "id": "b34718fa",
   "metadata": {},
   "source": [
    "## 7. Summary and Key Insights\n",
    "\n",
    "This playground demonstrated several powerful features of the pydantic_variants system:\n",
    "\n",
    "### 🔑 Key Features Demonstrated\n",
    "\n",
    "1. **Deep Nesting Support**: Created 3-level nested models (`User` → `Contact` → `Address`)\n",
    "\n",
    "2. **Cascading Variant Switching**: The `SwitchNested` transformer automatically propagated variant selections through all nesting levels\n",
    "\n",
    "3. **Transformer Composition**: Combined multiple transformers (`Filter`, `Optional`, `Rename`, `SwitchNested`, `Build`, `Attach`) in pipelines\n",
    "\n",
    "4. **Field-Level Control**: Different transformations at each level:\n",
    "   - **Address**: Made fields optional, renamed for API compatibility\n",
    "   - **Contact**: Filtered sensitive emergency contact data \n",
    "   - **User**: Added auto-generated fields, renamed IDs\n",
    "\n",
    "### 🎯 Use Cases\n",
    "\n",
    "- **Input Variants**: Perfect for user registration/data ingestion with optional fields and sensible defaults\n",
    "- **Output Variants**: Ideal for API responses with filtered sensitive data and API-friendly field names\n",
    "- **Nested Consistency**: Ensures all levels use appropriate variants automatically\n",
    "\n",
    "### 🔧 Architecture Benefits\n",
    "\n",
    "- **Type Safety**: All variants maintain proper Pydantic validation\n",
    "- **Reusability**: Transformers can be composed and reused across different models\n",
    "- **Maintainability**: Changes to transformation logic are centralized in transformer definitions"
   ]
  }
 ],
 "metadata": {
  "kernelspec": {
   "display_name": "pydantic_variations",
   "language": "python",
   "name": "python3"
  },
  "language_info": {
   "codemirror_mode": {
    "name": "ipython",
    "version": 3
   },
   "file_extension": ".py",
   "mimetype": "text/x-python",
   "name": "python",
   "nbconvert_exporter": "python",
   "pygments_lexer": "ipython3",
   "version": "3.12.4"
  }
 },
 "nbformat": 4,
 "nbformat_minor": 5
}
